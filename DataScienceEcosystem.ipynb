{
 "cells": [
  {
   "cell_type": "markdown",
   "id": "797cb3ca",
   "metadata": {},
   "source": [
    "# Data Science Tools and Ecosystem"
   ]
  },
  {
   "attachments": {},
   "cell_type": "markdown",
   "id": "3420ab11",
   "metadata": {},
   "source": [
    "In this notebook, Data Science Tools and Ecosystem are summarized."
   ]
  },
  {
   "cell_type": "markdown",
   "id": "42a89981",
   "metadata": {},
   "source": [
    "Some of the popular languages that Data Scientists use are:\n",
    "1. Python\n",
    "2. R\n",
    "3. Java"
   ]
  },
  {
   "cell_type": "markdown",
   "id": "acfae56e",
   "metadata": {},
   "source": [
    "Some of the commonly used libraries used by Data Scientists include:\n",
    "1. matplotlib\n",
    "2. seaborn\n",
    "3. PyTorch"
   ]
  },
  {
   "cell_type": "markdown",
   "id": "a716fafd",
   "metadata": {},
   "source": [
    "Data Science Tools:\n",
    "1. VSCode\n",
    "2. GitHub\n",
    "3. R-Studio"
   ]
  },
  {
   "cell_type": "markdown",
   "id": "68e03eb0",
   "metadata": {},
   "source": [
    "### Below are a few examples of evaluating arithmetic expressions in Python.\n",
    "intval = int()\n",
    "eval()"
   ]
  },
  {
   "cell_type": "code",
   "execution_count": 1,
   "id": "d40c741d",
   "metadata": {},
   "outputs": [
    {
     "data": {
      "text/plain": [
       "13"
      ]
     },
     "execution_count": 1,
     "metadata": {},
     "output_type": "execute_result"
    }
   ],
   "source": [
    "#This a simple arithmetic expression to mutiply then add integers.\n",
    "def multiply():\n",
    "    return (2*4)+5\n",
    "multiply()"
   ]
  },
  {
   "cell_type": "code",
   "execution_count": 2,
   "id": "a33521d9",
   "metadata": {},
   "outputs": [
    {
     "data": {
      "text/plain": [
       "3.3333333333333335"
      ]
     },
     "execution_count": 2,
     "metadata": {},
     "output_type": "execute_result"
    }
   ],
   "source": [
    "def hours(minutes=200):\n",
    "    return minutes/60\n",
    "hours()"
   ]
  },
  {
   "cell_type": "markdown",
   "id": "a4fb43a0",
   "metadata": {},
   "source": [
    "Objectives\n",
    "- learn ipynb\n",
    "- simple maths\n",
    "- functions"
   ]
  },
  {
   "cell_type": "markdown",
   "id": "2da96271",
   "metadata": {},
   "source": [
    "## Author\n",
    "Alexander Johae"
   ]
  }
 ],
 "metadata": {
  "kernelspec": {
   "display_name": "Python 3",
   "language": "python",
   "name": "python3"
  },
  "language_info": {
   "codemirror_mode": {
    "name": "ipython",
    "version": 3
   },
   "file_extension": ".py",
   "mimetype": "text/x-python",
   "name": "python",
   "nbconvert_exporter": "python",
   "pygments_lexer": "ipython3",
   "version": "3.8.8"
  }
 },
 "nbformat": 4,
 "nbformat_minor": 5
}
